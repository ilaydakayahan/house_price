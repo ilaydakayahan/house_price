{
 "cells": [
  {
   "cell_type": "code",
   "execution_count": null,
   "id": "9e852b13-59fe-455a-83f9-8ba4108e0b17",
   "metadata": {},
   "outputs": [],
   "source": []
  }
 ],
 "metadata": {
  "kernelspec": {
   "display_name": "",
   "name": ""
  },
  "language_info": {
   "name": ""
  }
 },
 "nbformat": 4,
 "nbformat_minor": 5
}
